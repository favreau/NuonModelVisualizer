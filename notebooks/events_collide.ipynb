{
 "cells": [
  {
   "cell_type": "code",
   "execution_count": null,
   "metadata": {},
   "outputs": [],
   "source": [
    "from bioexplorer import BioExplorer\n",
    "from nuon_model_visualizer import NuonModelVisualizer"
   ]
  },
  {
   "cell_type": "code",
   "execution_count": null,
   "metadata": {},
   "outputs": [],
   "source": [
    "be_url = 'localhost:5000'\n",
    "be = BioExplorer(be_url)\n",
    "core = be.core_api()\n",
    "nmv = NuonModelVisualizer(\n",
    "    bio_explorer=be, particles_as_vectors=True,\n",
    "    root_proton_file='keep_findall_64004.root',\n",
    "    root_collision_file='collide_298792_events.root')"
   ]
  },
  {
   "cell_type": "code",
   "execution_count": null,
   "metadata": {},
   "outputs": [],
   "source": [
    "def set_field_parameters(nmv):\n",
    "    nmv.set_field_parameters(\n",
    "        cutoff_distance=50,\n",
    "        sampling_rate=0.25,\n",
    "        gradient_shading=False, gradient_offset=0.01, epsilon=1.5, \n",
    "        accumulation_steps=0,\n",
    "        use_octree=True\n",
    "    )\n",
    "set_field_parameters(nmv)"
   ]
  },
  {
   "cell_type": "code",
   "execution_count": null,
   "metadata": {},
   "outputs": [],
   "source": [
    "core.set_camera(\n",
    "    current='perspective',\n",
    "    orientation=[-0.3234696528321516, 0.7512876706246714, 0.5041260587420526, 0.2771121371596832],\n",
    "    position=[0.9307057768653164, 9.661146740468132, -3.467553964472151],\n",
    "    target=[0.0, 0.0, 0.019711971282959873],        \n",
    ")\n",
    "params = core.PerspectiveCameraParams()\n",
    "params.main_exposure = 1.5\n",
    "core.set_camera_params(params)"
   ]
  },
  {
   "cell_type": "code",
   "execution_count": null,
   "metadata": {},
   "outputs": [],
   "source": [
    "status = core.set_renderer(\n",
    "    background_color=[0,0,0],\n",
    "    current='advanced',subsampling=4, max_accum_frames=128)\n",
    "params = core.AdvancedRendererParams()\n",
    "params.gi_ray_length = 1000.0\n",
    "params.shadow_intensity = 0.0\n",
    "params.soft_shadow_strength = 0.25\n",
    "params.epsilon_multiplier = 100.0\n",
    "params.max_ray_depth = 30\n",
    "params.show_background = False\n",
    "params.main_exposure = 10.0\n",
    "status = core.set_renderer_params(params)"
   ]
  },
  {
   "cell_type": "markdown",
   "metadata": {},
   "source": [
    "### Event collision"
   ]
  },
  {
   "cell_type": "code",
   "execution_count": null,
   "metadata": {},
   "outputs": [],
   "source": [
    "event_id = 0\n",
    "\n",
    "be.reset_scene()\n",
    "set_field_parameters(nmv)\n",
    "nmv.render_event(\n",
    "    event_id, 'nuons.1dt',\n",
    "    timestamp=1.0, \n",
    "    magnetic=True, value_range=[-0.005, 0.1], voxel_size=0.1,\n",
    "    show_plot=False, show_grid=False,\n",
    "    marker_size=2.0)"
   ]
  }
 ],
 "metadata": {
  "kernelspec": {
   "display_name": "Python 3 (ipykernel)",
   "language": "python",
   "name": "python3"
  },
  "language_info": {
   "codemirror_mode": {
    "name": "ipython",
    "version": 3
   },
   "file_extension": ".py",
   "mimetype": "text/x-python",
   "name": "python",
   "nbconvert_exporter": "python",
   "pygments_lexer": "ipython3",
   "version": "3.10.12"
  }
 },
 "nbformat": 4,
 "nbformat_minor": 4
}
